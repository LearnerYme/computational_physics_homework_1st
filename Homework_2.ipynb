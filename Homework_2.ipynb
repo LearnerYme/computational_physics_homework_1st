{
 "cells": [
  {
   "cell_type": "markdown",
   "metadata": {},
   "source": [
    "# 作业内容\n",
    "\n",
    "> 基于阿尔法衰变半衰期，推导最小二乘法公式并用Latex在Markdown cell中打出来；\n",
    "\n",
    "> 导入数据，运用最小二乘法，使用前19个点拟合，并预测第20个点的值，与真实值进行比较。"
   ]
  },
  {
   "cell_type": "markdown",
   "metadata": {},
   "source": [
    "# 参考答案"
   ]
  },
  {
   "cell_type": "markdown",
   "metadata": {},
   "source": [
    "> 1， 理论部分"
   ]
  },
  {
   "cell_type": "markdown",
   "metadata": {},
   "source": [
    "由公式：\n",
    "\n",
    "$$ \\log_{10} W = C - \\frac{D}{\\sqrt{E_\\alpha}} $$\n",
    "\n",
    "定义：\n",
    "\n",
    "$$ y = \\log_{10}{W} $$\n",
    "\n",
    "$$ x = 1/\\sqrt{E_{\\alpha}} $$\n",
    "\n",
    "记:\n",
    "\n",
    "$$C = b, -D = a$$\n",
    "\n",
    "所以有：\n",
    "\n",
    "$$ y = ax + b $$"
   ]
  },
  {
   "cell_type": "markdown",
   "metadata": {},
   "source": [
    "**Case 1**\n",
    "\n",
    "使用L2 Loss (MSE)，有：\n",
    "\n",
    "$$ l(a, b) = \\sum_{i}^{n}{(y_i - \\hat{y_i}})^2 $$\n",
    "\n",
    "其中，\n",
    "\n",
    "$$ \\hat{y_i} = ax_i + b $$\n",
    "\n",
    "分别求损失函数对两个参数的偏导数，有：\n",
    "\n",
    "$$ \\Lambda_a = \\frac{\\partial l}{\\partial a} = \\sum_{i}^{n}{2(y_i - ax_i - b)(-x_i)} $$\n",
    "\n",
    "$$ \\Lambda_b = \\frac{\\partial l}{\\partial b} = \\sum_{i}^{n}{2(y_i - ax_i - b)(-1)} $$\n",
    "\n",
    "令它们等于0，可得：\n",
    "\n",
    "$$ \\sum_{i}^{n}{y_i x_i} - a\\sum_{i}^{n}{(x_i)^2} - b\\sum_{i}^{n}{x_i} = 0 \\ \\ \\ \\ (1)$$\n",
    "\n",
    "$$ \\sum_{i}^{n}{y_i} - a\\sum_{i}^{n}{x_i} - b\\sum_{i}^{n}{1} = 0 \\ \\ \\ \\ (2)$$"
   ]
  },
  {
   "cell_type": "markdown",
   "metadata": {},
   "source": [
    "对(1)式乘上$\\sum_{i}^{n}{1}$， 对(2)式乘上$\\sum_{i}^{n}{x_i}$，可得：\n",
    "\n",
    "$$ n\\sum_{i}^{n}{y_i x_i} - an\\sum_{i}^{n}{(x_i)^2} - bn\\sum_{i}^{n}{x_i} = 0 \\ \\ \\ \\ (3)$$\n",
    "\n",
    "$$ \\sum_{i}^{n}{y_i}\\sum_{i}^{n}{x_i} - a(\\sum_{i}^{n}{x_i})^2 - bn\\sum_{i}^{n}{x_i} = 0 \\ \\ \\ \\ (4)$$"
   ]
  },
  {
   "cell_type": "markdown",
   "metadata": {},
   "source": [
    "很显然地，有：\n",
    "\n",
    "$$ a = \\frac{n\\sum_{i}^{n}{y_i x_i}-\\sum_{i}^{n}{y_i}\\sum_{i}^{n}{x_i}}{n\\sum_{i}^{n}{x_i^2} - (\\sum_{i}^{n}{x_i})^2} $$\n",
    "\n",
    "$$ b = \\frac{\\sum_{i}^{n}{y_i} - a\\sum_{i}^{n}{x_i}}{n} $$"
   ]
  },
  {
   "cell_type": "markdown",
   "metadata": {},
   "source": [
    "特别地，注意到这里的式子里面有n，所以对a而言，分子分母同时除以一个n或者除以n平方，都可以得到平均值的表达式；对b而言，裂项之后的结果两项都是平均值。\n",
    "\n",
    "所以同样可以得到另外一套结果：\n",
    "\n",
    "$$ a = \\frac{\\bar{y_i x_i} - \\bar{y_i}\\bar{x_i}}{\\bar{x_i^2} - \\bar{x_i}^2} $$\n",
    "\n",
    "$$ b = \\bar{y_i} - a\\bar{x_i} $$"
   ]
  },
  {
   "cell_type": "markdown",
   "metadata": {},
   "source": [
    "**Case 2**\n",
    "\n",
    "以上是选用MSE的结果，如果选择MAE，则是：\n",
    "\n",
    "$$ l(a, b) = \\sum_{i}^{n}{\\sqrt{(y_i - \\hat{y_i}})^2} $$\n",
    "\n",
    "其中，\n",
    "\n",
    "$$ \\hat{y_i} = ax_i + b $$\n",
    "\n",
    "分别求损失函数对两个参数的偏导数，有：\n",
    "\n",
    "$$ \\frac{\\partial l}{\\partial a} = \\sum_{i}^{n}{\\frac{2(y_i - ax_i - b)(-x_i)}{|y_i - ax_i - b|}} $$\n",
    "\n",
    "$$ \\frac{\\partial l}{\\partial b} = \\sum_{i}^{n}{\\frac{2(y_i - ax_i - b)(-1)}{|y_i - ax_i - b|}} $$\n",
    "\n",
    "记：\n",
    "\n",
    "$$ |y_i - ax_i - b| = \\Lambda_i $$\n",
    "\n",
    "令它们等于0，可得：\n",
    "\n",
    "$$ \\sum_{i}^{n}{y_i x_i / \\Lambda_i} - a\\sum_{i}^{n}{x_i^2 / \\Lambda_i} - b\\sum_{i}^{n}{x_i / \\Lambda_i} = 0 \\ \\ \\ \\ (5)$$\n",
    "\n",
    "$$ \\sum_{i}^{n}{y_i / \\Lambda_i} - a\\sum_{i}^{n}{x_i / \\Lambda_i} - b\\sum_{i}^{n}{1 / \\Lambda_i} = 0 \\ \\ \\ \\ (6)$$"
   ]
  },
  {
   "cell_type": "markdown",
   "metadata": {},
   "source": [
    "同样地，对(5)式乘上$\\sum_{i}^{n}{1 / \\Lambda_i}$， 对(6)式乘上$\\sum_{i}^{n}{x_i / \\Lambda_i}$，可得：\n",
    "\n",
    "$$ \\sum_{i}^{n}{1 / \\Lambda_i}\\sum_{i}^{n}{y_i x_i / \\Lambda_i} - a\\sum_{i}^{n}{1 / \\Lambda_i}\\sum_{i}^{n}{x_i^2 / \\Lambda_i} - b\\sum_{i}^{n}{1 / \\Lambda_i}\\sum_{i}^{n}{x_i / \\Lambda_i} = 0 \\ \\ \\ \\ (7)$$\n",
    "\n",
    "$$ \\sum_{i}^{n}{x_i / \\Lambda_i}\\sum_{i}^{n}{y_i / \\Lambda_i} - a(\\sum_{i}^{n}{x_i / \\Lambda_i})^2 - b\\sum_{i}^{n}{x_i / \\Lambda_i}\\sum_{i}^{n}{1 / \\Lambda_i} = 0 \\ \\ \\ \\ (8)$$"
   ]
  },
  {
   "cell_type": "markdown",
   "metadata": {},
   "source": [
    "显然，可得：\n",
    "\n",
    "$$ a = \\frac{\\sum_{i}^{n}{1 / \\Lambda_i}\\sum_{i}^{n}{y_i x_i / \\Lambda_i} - \\sum_{i}^{n}{x_i / \\Lambda_i}\\sum_{i}^{n}{y_i / \\Lambda_i}}{\\sum_{i}^{n}{1 / \\Lambda_i}\\sum_{i}^{n}{x_i^2 / \\Lambda_i} - (\\sum_{i}^{n}{x_i / \\Lambda_i})^2} $$\n",
    "\n",
    "$$ b = \\frac{\\sum_{i}^{n}{y_i / \\Lambda_i} - a\\sum_{i}^{n}{x_i / \\Lambda_i}}{\\sum_{i}^{n}{1 / \\Lambda_i}} $$"
   ]
  },
  {
   "cell_type": "markdown",
   "metadata": {},
   "source": [
    "> 2，编程部分"
   ]
  },
  {
   "cell_type": "code",
   "execution_count": 1,
   "metadata": {},
   "outputs": [],
   "source": [
    "import numpy as np\n",
    "import pandas as pd\n",
    "import matplotlib.pyplot as plt"
   ]
  },
  {
   "cell_type": "code",
   "execution_count": 2,
   "metadata": {},
   "outputs": [
    {
     "data": {
      "text/html": [
       "<div>\n",
       "<style scoped>\n",
       "    .dataframe tbody tr th:only-of-type {\n",
       "        vertical-align: middle;\n",
       "    }\n",
       "\n",
       "    .dataframe tbody tr th {\n",
       "        vertical-align: top;\n",
       "    }\n",
       "\n",
       "    .dataframe thead th {\n",
       "        text-align: right;\n",
       "    }\n",
       "</style>\n",
       "<table border=\"1\" class=\"dataframe\">\n",
       "  <thead>\n",
       "    <tr style=\"text-align: right;\">\n",
       "      <th></th>\n",
       "      <th>nucleus</th>\n",
       "      <th>Ealpha</th>\n",
       "      <th>tau_half</th>\n",
       "      <th>tau_units</th>\n",
       "      <th>tau_second</th>\n",
       "    </tr>\n",
       "  </thead>\n",
       "  <tbody>\n",
       "    <tr>\n",
       "      <th>0</th>\n",
       "      <td>Po206</td>\n",
       "      <td>5.22</td>\n",
       "      <td>8.80</td>\n",
       "      <td>day</td>\n",
       "      <td>7.603200e+05</td>\n",
       "    </tr>\n",
       "    <tr>\n",
       "      <th>1</th>\n",
       "      <td>Po208</td>\n",
       "      <td>5.11</td>\n",
       "      <td>2.90</td>\n",
       "      <td>year</td>\n",
       "      <td>9.145440e+07</td>\n",
       "    </tr>\n",
       "    <tr>\n",
       "      <th>2</th>\n",
       "      <td>Po210</td>\n",
       "      <td>5.31</td>\n",
       "      <td>138.00</td>\n",
       "      <td>day</td>\n",
       "      <td>1.192320e+07</td>\n",
       "    </tr>\n",
       "    <tr>\n",
       "      <th>3</th>\n",
       "      <td>Po212</td>\n",
       "      <td>8.78</td>\n",
       "      <td>0.30</td>\n",
       "      <td>microsecond</td>\n",
       "      <td>3.000000e-07</td>\n",
       "    </tr>\n",
       "    <tr>\n",
       "      <th>4</th>\n",
       "      <td>Po214</td>\n",
       "      <td>7.68</td>\n",
       "      <td>164.00</td>\n",
       "      <td>microsecond</td>\n",
       "      <td>1.640000e-04</td>\n",
       "    </tr>\n",
       "    <tr>\n",
       "      <th>5</th>\n",
       "      <td>Po216</td>\n",
       "      <td>6.78</td>\n",
       "      <td>0.15</td>\n",
       "      <td>second</td>\n",
       "      <td>1.500000e-01</td>\n",
       "    </tr>\n",
       "    <tr>\n",
       "      <th>6</th>\n",
       "      <td>U228</td>\n",
       "      <td>6.69</td>\n",
       "      <td>9.10</td>\n",
       "      <td>month</td>\n",
       "      <td>2.358720e+07</td>\n",
       "    </tr>\n",
       "    <tr>\n",
       "      <th>7</th>\n",
       "      <td>U230</td>\n",
       "      <td>5.89</td>\n",
       "      <td>20.80</td>\n",
       "      <td>day</td>\n",
       "      <td>1.797120e+06</td>\n",
       "    </tr>\n",
       "    <tr>\n",
       "      <th>8</th>\n",
       "      <td>U232</td>\n",
       "      <td>5.32</td>\n",
       "      <td>72.00</td>\n",
       "      <td>year</td>\n",
       "      <td>2.270592e+09</td>\n",
       "    </tr>\n",
       "    <tr>\n",
       "      <th>9</th>\n",
       "      <td>U234</td>\n",
       "      <td>4.77</td>\n",
       "      <td>247000.00</td>\n",
       "      <td>year</td>\n",
       "      <td>7.789392e+12</td>\n",
       "    </tr>\n",
       "  </tbody>\n",
       "</table>\n",
       "</div>"
      ],
      "text/plain": [
       "  nucleus  Ealpha   tau_half    tau_units    tau_second\n",
       "0   Po206    5.22       8.80          day  7.603200e+05\n",
       "1   Po208    5.11       2.90         year  9.145440e+07\n",
       "2   Po210    5.31     138.00          day  1.192320e+07\n",
       "3   Po212    8.78       0.30  microsecond  3.000000e-07\n",
       "4   Po214    7.68     164.00  microsecond  1.640000e-04\n",
       "5   Po216    6.78       0.15       second  1.500000e-01\n",
       "6    U228    6.69       9.10        month  2.358720e+07\n",
       "7    U230    5.89      20.80          day  1.797120e+06\n",
       "8    U232    5.32      72.00         year  2.270592e+09\n",
       "9    U234    4.77  247000.00         year  7.789392e+12"
      ]
     },
     "execution_count": 2,
     "metadata": {},
     "output_type": "execute_result"
    }
   ],
   "source": [
    "#load data\n",
    "data = pd.read_csv('./data/alpha_decay.csv')\n",
    "\n",
    "#unit conversion\n",
    "def UnitConversion(unit):\n",
    "    if unit not in ['microsecond', 'second', 'day', 'month', 'year']:\n",
    "        raise Exception('Invalid unit.')\n",
    "    conv_rate = 1\n",
    "    if unit == 'microsecond':\n",
    "        conv_rate = 1e-6\n",
    "    if unit == 'day':\n",
    "        conv_rate = 3600 * 24\n",
    "    if unit == 'month':\n",
    "        return 3600 * 24 * 30\n",
    "    if unit == 'year':\n",
    "        conv_rate = 3600 * 24 * 365\n",
    "    return conv_rate\n",
    "\n",
    "data['tau_second'] = [UnitConversion(item) for item in data['tau_units']] * data['tau_half']\n",
    "\n",
    "#check\n",
    "data.head(10)"
   ]
  },
  {
   "cell_type": "code",
   "execution_count": 3,
   "metadata": {},
   "outputs": [
    {
     "name": "stdout",
     "output_type": "stream",
     "text": [
      "x: [0.43768811 0.44237396 0.43396304 0.33748365 0.36084392 0.38404769\n",
      " 0.38662234 0.41204282 0.43355498 0.45786855 0.47192918 0.48795004\n",
      " 0.42640143 0.4397995  0.45175395 0.46324105 0.39872611 0.40422604\n",
      " 0.4152274  0.43073049]\n",
      "y: [ -6.04017095  -8.12037914  -7.23556737   6.36370421   3.62598161\n",
      "   0.6647342   -7.53185093  -6.41375162  -9.51531364 -13.0506781\n",
      " -15.03637905 -17.31215769  -9.5924796  -11.47620704 -13.23662036\n",
      " -15.56107113  -6.52382308  -7.30787589  -8.90349381 -11.39834384]\n"
     ]
    }
   ],
   "source": [
    "#define variables\n",
    "x = np.sqrt(1 / data['Ealpha'])\n",
    "W = np.log(2) / data['tau_second']\n",
    "y = np.log10(W)\n",
    "print('x: {}\\ny: {}'.format(x.values, y.values))"
   ]
  },
  {
   "cell_type": "code",
   "execution_count": 4,
   "metadata": {},
   "outputs": [
    {
     "data": {
      "text/plain": [
       "<matplotlib.collections.PathCollection at 0x2d340ca6978>"
      ]
     },
     "execution_count": 4,
     "metadata": {},
     "output_type": "execute_result"
    },
    {
     "data": {
      "image/png": "[encoded data removed]",
      "text/plain": [
       "<Figure size 576x576 with 1 Axes>"
      ]
     },
     "metadata": {
      "needs_background": "light"
     },
     "output_type": "display_data"
    }
   ],
   "source": [
    "#check x and y in figure\n",
    "fig, ax = plt.subplots()\n",
    "fig.set_size_inches(8, 8)\n",
    "ax.scatter(x, y, c='blue', label='data')"
   ]
  },
  {
   "cell_type": "code",
   "execution_count": 5,
   "metadata": {},
   "outputs": [],
   "source": [
    "#split the last point\n",
    "x_last = x.values[-1]\n",
    "y_last = y.values[-1]\n",
    "x = x[:-1]\n",
    "y = y[:-1]"
   ]
  },
  {
   "cell_type": "markdown",
   "metadata": {},
   "source": [
    "**Case 1**\n",
    "\n",
    "使用MSE:\n",
    "\n",
    "*Mathod 1*\n",
    "\n",
    "$$ a = \\frac{n\\sum_{i}^{n}{y_i x_i}-\\sum_{i}^{n}{y_i}\\sum_{i}^{n}{x_i}}{n\\sum_{i}^{n}{x_i^2} - (\\sum_{i}^{n}{x_i})^2} $$\n",
    "\n",
    "$$ b = \\frac{\\sum_{i}^{n}{y_i} - a\\sum_{i}^{n}{x_i}}{n} $$\n",
    "\n",
    "*Method 2*\n",
    "\n",
    "$$ a = \\frac{\\bar{y_i x_i} - \\bar{y_i}\\bar{x_i}}{\\bar{x_i^2} - \\bar{x_i}^2} $$\n",
    "\n",
    "$$ b = \\bar{y_i} - a\\bar{x_i} $$"
   ]
  },
  {
   "cell_type": "code",
   "execution_count": 6,
   "metadata": {},
   "outputs": [
    {
     "name": "stdout",
     "output_type": "stream",
     "text": [
      "Using method 1: \n",
      "a = -150.403\n",
      "b = 55.679\n"
     ]
    }
   ],
   "source": [
    "#method 1\n",
    "n = len(x)\n",
    "a = (n*np.sum(y*x) - np.sum(y)*np.sum(x)) / (n*np.sum(x**2) - np.sum(x)**2)\n",
    "b = (np.sum(y) - a*np.sum(x)) / n\n",
    "print('Using method 1: \\na = {:.3f}\\nb = {:.3f}'.format(a, b))"
   ]
  },
  {
   "cell_type": "code",
   "execution_count": 7,
   "metadata": {},
   "outputs": [
    {
     "name": "stdout",
     "output_type": "stream",
     "text": [
      "prediction: -9.104, label: -11.398\n"
     ]
    }
   ],
   "source": [
    "#predict\n",
    "def predict(x, a, b):\n",
    "    return a*x + b\n",
    "\n",
    "y_pred = predict(x_last, a, b)\n",
    "print('prediction: {:.3f}, label: {:.3f}'.format(y_pred, y_last))"
   ]
  },
  {
   "cell_type": "code",
   "execution_count": 8,
   "metadata": {},
   "outputs": [
    {
     "data": {
      "text/plain": [
       "[<matplotlib.lines.Line2D at 0x2d340e4edd8>]"
      ]
     },
     "execution_count": 8,
     "metadata": {},
     "output_type": "execute_result"
    }
   ],
   "source": [
    "#plot this lines\n",
    "x_seires = np.linspace(x.min(), x.max(), 100)\n",
    "y_l2_m1 = predict(x_seires, a, b)\n",
    "ax.plot(x_seires, y_l2_m1, color='red', label='MSE Method 1')"
   ]
  },
  {
   "cell_type": "code",
   "execution_count": 9,
   "metadata": {},
   "outputs": [
    {
     "name": "stdout",
     "output_type": "stream",
     "text": [
      "Using method 2: \n",
      "a = -150.403\n",
      "b = 55.679\n"
     ]
    }
   ],
   "source": [
    "#method 2\n",
    "a = (np.mean(y*x) - np.mean(y)*np.mean(x)) / (np.mean(x**2) - np.mean(x)**2)\n",
    "b = np.mean(y) - a*np.mean(x)\n",
    "print('Using method 2: \\na = {:.3f}\\nb = {:.3f}'.format(a, b))"
   ]
  },
  {
   "cell_type": "code",
   "execution_count": 10,
   "metadata": {},
   "outputs": [
    {
     "name": "stdout",
     "output_type": "stream",
     "text": [
      "prediction: -9.104, label: -11.398\n"
     ]
    }
   ],
   "source": [
    "#predict\n",
    "y_pred = predict(x_last, a, b)\n",
    "print('prediction: {:.3f}, label: {:.3f}'.format(y_pred, y_last))"
   ]
  },
  {
   "cell_type": "code",
   "execution_count": 11,
   "metadata": {},
   "outputs": [
    {
     "data": {
      "text/plain": [
       "[<matplotlib.lines.Line2D at 0x2d340e591d0>]"
      ]
     },
     "execution_count": 11,
     "metadata": {},
     "output_type": "execute_result"
    }
   ],
   "source": [
    "#plot this lines\n",
    "x_seires = np.linspace(x.min(), x.max(), 100)\n",
    "y_l2_m2 = predict(x_seires, a, b)\n",
    "ax.plot(x_seires, y_l2_m2, color='green', label='MSE Method 2')"
   ]
  },
  {
   "cell_type": "markdown",
   "metadata": {},
   "source": [
    "**Case 2**\n",
    "\n",
    "使用MAE:\n",
    "\n",
    "$$ a = \\frac{\\sum_{i}^{n}{1 / \\Lambda_i}\\sum_{i}^{n}{y_i x_i / \\Lambda_i} - \\sum_{i}^{n}{x_i / \\Lambda_i}\\sum_{i}^{n}{y_i / \\Lambda_i}}{\\sum_{i}^{n}{1 / \\Lambda_i}\\sum_{i}^{n}{x_i^2 / \\Lambda_i} - (\\sum_{i}^{n}{x_i / \\Lambda_i})^2} $$\n",
    "\n",
    "$$ b = \\frac{\\sum_{i}^{n}{y_i / \\Lambda_i} - a\\sum_{i}^{n}{x_i / \\Lambda_i}}{\\sum_{i}^{n}{1 / \\Lambda_i}} $$\n",
    "\n",
    "$$ |y_i - ax_i - b| = \\Lambda_i $$"
   ]
  },
  {
   "cell_type": "code",
   "execution_count": 12,
   "metadata": {},
   "outputs": [
    {
     "name": "stdout",
     "output_type": "stream",
     "text": [
      "At epoch 10, a = -145.949 and b = 53.761\n",
      "Early stopping at epoch 18, a = -145.408 and b = 53.527\n",
      "Finally, a = -145.410\n",
      "b = 53.528\n"
     ]
    }
   ],
   "source": [
    "#When using MAE, we need to loop several iterations\n",
    "import warnings\n",
    "warnings.filterwarnings('ignore')\n",
    "\n",
    "a_current = -10\n",
    "b_current = 0\n",
    "epoches = 1000\n",
    "eps = 1e-3\n",
    "logging_interval = 10\n",
    "for epoch in range(1, epoches+1):\n",
    "    factor = np.abs(y - a_current*x - b_current)\n",
    "    n = np.sum(1 / factor)\n",
    "    a_new = (n*np.sum(y*x/factor) - np.sum(y/factor)*np.sum(x/factor)) / (n*np.sum(x**2/factor) - np.sum(x/factor)**2)\n",
    "    b_new = (np.sum(y/factor) - a_new*np.sum(x/factor)) / n\n",
    "    if epoch%logging_interval == 0:#print the log\n",
    "        print('At epoch {}, a = {:.3f} and b = {:.3f}'.format(epoch, a_current, b_current))\n",
    "    if np.isclose(a_new, a_current, atol=eps) and np.isclose(b_new, b_current, atol=eps):#early stopping\n",
    "        print('Early stopping at epoch {}, a = {:.3f} and b = {:.3f}'.format(epoch, a_new, b_new))\n",
    "        break\n",
    "    else:\n",
    "        a_current = a_new\n",
    "        b_current = b_new\n",
    "print('Finally, a = {:.3f}\\nb = {:.3f}'.format(a_current, b_current))"
   ]
  },
  {
   "cell_type": "code",
   "execution_count": 13,
   "metadata": {},
   "outputs": [
    {
     "name": "stdout",
     "output_type": "stream",
     "text": [
      "prediction: -9.105, label: -11.398\n"
     ]
    }
   ],
   "source": [
    "#predict\n",
    "y_pred = predict(x_last, a_current, b_current)\n",
    "print('prediction: {:.3f}, label: {:.3f}'.format(y_pred, y_last))"
   ]
  },
  {
   "cell_type": "code",
   "execution_count": 14,
   "metadata": {},
   "outputs": [
    {
     "data": {
      "text/plain": [
       "<matplotlib.legend.Legend at 0x2d3409149e8>"
      ]
     },
     "execution_count": 14,
     "metadata": {},
     "output_type": "execute_result"
    }
   ],
   "source": [
    "#plot this line\n",
    "y_l1 = predict(x_seires, a_current, b_current)\n",
    "ax.plot(x_seires, y_l1, color='black', label='MAE')\n",
    "ax.legend()"
   ]
  },
  {
   "cell_type": "code",
   "execution_count": 15,
   "metadata": {},
   "outputs": [
    {
     "data": {
      "image/png": "[encoded data removed]",
      "text/plain": [
       "<Figure size 576x576 with 1 Axes>"
      ]
     },
     "execution_count": 15,
     "metadata": {},
     "output_type": "execute_result"
    }
   ],
   "source": [
    "fig"
   ]
  },
  {
   "cell_type": "code",
   "execution_count": 17,
   "metadata": {},
   "outputs": [
    {
     "name": "stdout",
     "output_type": "stream",
     "text": [
      "In second:\n",
      "Using MAE tau_half: 881062446.551\n",
      "Using MSE tau_half: 881923903.681\n",
      "Real tau_half: 173448000000.000\n",
      "In year:\n",
      "Using MAE tau_half: 27.938\n",
      "Using MSE tau_half: 27.966\n",
      "Real tau_half: 5500.000\n"
     ]
    }
   ],
   "source": [
    "#calculate the predicted tau_half of 20th point\n",
    "y_l1 = predict(x_last, a, b)\n",
    "y_l2 = predict(x_last, a_current, b_current)\n",
    "y_label = y_last\n",
    "W_l1 = 10**y_l1\n",
    "W_l2 = 10**y_l2\n",
    "W_label = 10**y_label\n",
    "tau_half_l1 = np.log(2) / W_l1\n",
    "tau_half_l2 = np.log(2) / W_l2\n",
    "tau_half_label = np.log(2) / W_label\n",
    "#in second\n",
    "print('In second:')\n",
    "print('Using MAE tau_half: {:.3f}\\nUsing MSE tau_half: {:.3f}\\nReal tau_half: {:.3f}'.format(tau_half_l1, tau_half_l2, tau_half_label))\n",
    "#in year\n",
    "conv_rate = 1 / UnitConversion('year')\n",
    "print('In year:')\n",
    "print('Using MAE tau_half: {:.3f}\\nUsing MSE tau_half: {:.3f}\\nReal tau_half: {:.3f}'.format(tau_half_l1 * conv_rate, \n",
    "                                                                                             tau_half_l2 * conv_rate, \n",
    "                                                                                             tau_half_label * conv_rate))"
   ]
  },
  {
   "cell_type": "code",
   "execution_count": null,
   "metadata": {},
   "outputs": [],
   "source": []
  }
 ],
 "metadata": {
  "kernelspec": {
   "display_name": "Python 3",
   "language": "python",
   "name": "python3"
  },
  "language_info": {
   "codemirror_mode": {
    "name": "ipython",
    "version": 3
   },
   "file_extension": ".py",
   "mimetype": "text/x-python",
   "name": "python",
   "nbconvert_exporter": "python",
   "pygments_lexer": "ipython3",
   "version": "3.7.3"
  }
 },
 "nbformat": 4,
 "nbformat_minor": 2
}
