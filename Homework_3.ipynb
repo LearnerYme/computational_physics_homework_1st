{
 "cells": [
  {
   "cell_type": "markdown",
   "metadata": {},
   "source": [
    "# 作业内容：\n",
    "\n",
    "> 编程完成3阶辛普森积分与复化辛普森积分，以如下函数为例，与sympy的结果对比\n",
    ">> $\\int_{-1}^1 \\sqrt{x - 1} dx$\n",
    "\n",
    "> 计算理想强子共振气体的某些物理量，并与论文数据对比"
   ]
  },
  {
   "cell_type": "markdown",
   "metadata": {},
   "source": [
    "# 参考答案"
   ]
  },
  {
   "cell_type": "markdown",
   "metadata": {},
   "source": [
    "> 1， 辛普森积分"
   ]
  },
  {
   "cell_type": "markdown",
   "metadata": {},
   "source": [
    "三阶辛普森积分公式如下：\n",
    "\n",
    "$$F = (b - a)\\left[ {1\\over 8} f(a) + {3 \\over 8} f({2a + b \\over 3}) + {3 \\over 8} f({a + 2 b \\over 3}) + {1 \\over 8} f(b) \\right]$$\n",
    "\n",
    "其中，b与a分别为积分上下限。\n",
    "\n",
    "那么显然可得："
   ]
  },
  {
   "cell_type": "code",
   "execution_count": 1,
   "metadata": {},
   "outputs": [
    {
     "name": "stdout",
     "output_type": "stream",
     "text": [
      "Simpson result: 2.000, analytical solutions: 2.000\n"
     ]
    }
   ],
   "source": [
    "def MySimpson(f, a, b):\n",
    "    return (b - a) * (f(a) + 3*f(2*a + b) + 3*f(2*b + a) + f(b)) / 8\n",
    "\n",
    "#test using a simple function\n",
    "def demo_func(x):\n",
    "    return x**2\n",
    "print('Simpson result: {:.3f}, analytical solutions: {:.3f}'.format(MySimpson(demo_func, 0, 1), 2))"
   ]
  },
  {
   "cell_type": "code",
   "execution_count": 2,
   "metadata": {},
   "outputs": [],
   "source": [
    "import numpy as np\n",
    "import sympy as sym\n",
    "import cmath"
   ]
  },
  {
   "cell_type": "code",
   "execution_count": 3,
   "metadata": {},
   "outputs": [],
   "source": [
    "def func(x):\n",
    "    return (x - 1)**0.5"
   ]
  },
  {
   "cell_type": "code",
   "execution_count": 4,
   "metadata": {},
   "outputs": [],
   "source": [
    "#Sympy result\n",
    "x, a, b = sym.symbols('x a b')\n",
    "sym_res = complex(sym.integrate(func(x), (x, -1, 1)))\n",
    "#My Simpson result\n",
    "a = -1 + 0j\n",
    "b = 1 + 0j\n",
    "my_res = MySimpson(func, a, b)"
   ]
  },
  {
   "cell_type": "code",
   "execution_count": 5,
   "metadata": {},
   "outputs": [],
   "source": [
    "#Translate into polar cordinates\n",
    "sym_polar_res = cmath.polar(sym_res)\n",
    "my_polar_res = cmath.polar(my_res)"
   ]
  },
  {
   "cell_type": "markdown",
   "metadata": {},
   "source": [
    "复化辛普森积分就是把积分区间划分成n个子区间然后分别做辛普森积分，那么显然："
   ]
  },
  {
   "cell_type": "code",
   "execution_count": 6,
   "metadata": {},
   "outputs": [],
   "source": [
    "def MyMultiSimpson(f, a, b, n, SimpsonMethod):\n",
    "    nodes = np.linspace(a, b, n)\n",
    "    nodes_left = nodes[:-1]\n",
    "    nodes_right = nodes[1:]\n",
    "    res = [SimpsonMethod(f, item_left, item_right) for item_left, item_right in zip(nodes_left, nodes_right)]\n",
    "    return np.sum(res)"
   ]
  },
  {
   "cell_type": "code",
   "execution_count": 7,
   "metadata": {},
   "outputs": [],
   "source": [
    "my_multi_res = MyMultiSimpson(func, a, b, 1000, MySimpson)\n",
    "my_multi_polar_res = cmath.polar(my_multi_res)"
   ]
  },
  {
   "cell_type": "code",
   "execution_count": 8,
   "metadata": {},
   "outputs": [
    {
     "name": "stdout",
     "output_type": "stream",
     "text": [
      "Cartesian\n",
      "Sympy result: 1.8856180831641267j\n",
      "My result: (8.659560562354934e-17+1.4142135623730951j)\n",
      "My Multi-Simpson result: (0.4714095442741609+1.8047382776107321j)\n",
      "Polar\n",
      "Sympy result: (1.8856180831641267, 1.5707963267948966)\n",
      "My result: (1.4142135623730951, 1.5707963267948966)\n",
      "My Multi-Simpson result: (1.8652901139249423, 1.3152984048101044)\n"
     ]
    }
   ],
   "source": [
    "#Comparison\n",
    "print('Cartesian\\nSympy result: {}\\nMy result: {}\\nMy Multi-Simpson result: {}'.format(sym_res, my_res, my_multi_res))\n",
    "print('Polar\\nSympy result: {}\\nMy result: {}\\nMy Multi-Simpson result: {}'.format(sym_polar_res, my_polar_res, my_multi_polar_res))"
   ]
  },
  {
   "cell_type": "markdown",
   "metadata": {},
   "source": [
    "> 2，状态方程"
   ]
  },
  {
   "cell_type": "markdown",
   "metadata": {},
   "source": [
    "前面大部分内容是不用改动的，我这里直接把有用的复制过来了"
   ]
  },
  {
   "cell_type": "code",
   "execution_count": 9,
   "metadata": {},
   "outputs": [],
   "source": [
    "#Unchanged part\n",
    "import matplotlib.pyplot as plt\n",
    "from tqdm import tqdm\n",
    "import pandas as pd\n",
    "from scipy.integrate import quad\n",
    "\n",
    "def dist_f(k, T, hadron):\n",
    "    '''the distribution function of hadron \n",
    "    :k: float or np.array(), momentum in units [GeV]\n",
    "    :T: float, temperature, [GeV]\n",
    "    :hadron: dict with {'mass', '2*spin+1', 'eta',\n",
    "                        'baryon_num', 'strange_num', 'charge_num'}\n",
    "             where eta: +1 for fermion, -1 for boson\n",
    "             \n",
    "    :return: (2s + 1) / (np.exp(np.sqrt(k**2 + m**2)/T) + eta)\n",
    "    '''\n",
    "    spin_dof = hadron['2*spin+1']\n",
    "    m = hadron['mass']\n",
    "    eta = hadron['eta']\n",
    "    return  spin_dof / (np.exp(np.sqrt(k**2 + m**2)/T) + eta)\n",
    "\n",
    "def density_n(T, hadron):\n",
    "    '''calc density for given temperatures\n",
    "    :T: float, temperature, [GeV]\n",
    "    :hadron: dict with {'mass', '2*spin+1', 'eta',\n",
    "                        'baryon_num', 'strange_num', 'charge_num'}\n",
    "             where eta: +1 for fermion, -1 for boson\n",
    "    :return: hadron density at T '''\n",
    "    # 此处 intg_n 是 inline function\n",
    "    intg_n = lambda k: k**2 * dist_f(k, T, hadron) / (2 * np.pi**2)\n",
    "    \n",
    "    kmax = 50 * T\n",
    "    # 不要直接使用 quad(f, 0, 50*T), 给 50*T 命名为 kmax，程序可读性更好\n",
    "    ndensity = quad(intg_n, 0, kmax)[0]\n",
    "    \n",
    "    return ndensity\n",
    "\n",
    "def pressure_p(T, hadron):\n",
    "    '''HRG presure for given temperatures\n",
    "    :T: float or np.array(), temperature, [GeV]\n",
    "    :hadron: dict with {'mass', '2*spin+1', 'eta',\n",
    "                        'baryon_num', 'strange_num', 'charge_num'}\n",
    "             where eta: +1 for fermion, -1 for boson\n",
    "    :return: hadron presure at T  in unit [GeV]^4 '''\n",
    "    spin_dof = hadron['2*spin+1']\n",
    "    m = hadron['mass']\n",
    "    eta = hadron['eta']\n",
    "    intg_p = lambda k:  k**2 * np.log(1 + eta * np.exp(-(np.sqrt(k**2 + m**2))/T))    \n",
    "    coef_p = eta * T * spin_dof / (2 * np.pi**2)\n",
    "\n",
    "    kmax = 50 * T\n",
    "    pressure = coef_p * quad(intg_p, 0, kmax)[0] \n",
    "    return pressure\n",
    "\n",
    "def energy_density_e(T, hadron):\n",
    "    '''HRG presure for given temperatures\n",
    "    :T: float or np.array(), temperature, [GeV]\n",
    "    :hadron: dict with {'mass', '2*spin+1', 'eta',\n",
    "                        'baryon_num', 'strange_num', 'charge_num'}\n",
    "             where eta: +1 for fermion, -1 for boson \n",
    "    :return: hadron energy density at T in unit [GeV]^4'''\n",
    "    m = hadron['mass']\n",
    "\n",
    "    intg_e = lambda k: k**2 * np.sqrt(k**2 + m**2) * dist_f(k, T, hadron) / (2 * np.pi**2)\n",
    "    kmax = 50 * T\n",
    "    edensity = quad(intg_e, 0, kmax)[0] \n",
    "    return edensity\n",
    "\n",
    "def eos(T, mu, hadron):\n",
    "    '''calc the pressure vs energy density\n",
    "    :T: float, temperature, [GeV]\n",
    "    :mu: (mu_B, mu_S, mu_Q)\n",
    "    :hadron: dict with {'mass', '2*spin+1', 'eta',\n",
    "                        'baryon_num', 'strange_num', 'charge_num'}\n",
    "             where eta: +1 for fermion, -1 for boson\n",
    "    return: pressure, energy density in unit [GeV]^4，particle density'''\n",
    "    pressure = pressure_p(T, hadron)\n",
    "    edensity = energy_density_e(T, hadron)\n",
    "    ndensity = density_n(T, hadron)\n",
    "    \n",
    "    return pressure, edensity, ndensity\n",
    "\n",
    "pdg_ = []\n",
    "name_ = []\n",
    "mass_ = []\n",
    "decay_width_ = []       # decay width\n",
    "spin_degeneracy_ = []    # 2*s + 1\n",
    "isbaryon_ = []\n",
    "strange_num_ = []\n",
    "charge_num_ = []\n",
    "with open(\"data/pdg05.dat\", \"r\") as pdg:\n",
    "    lines = pdg.readlines()\n",
    "    row = 0\n",
    "    while row < len(lines):\n",
    "        # 按空格将不同的数据分开\n",
    "        particle = lines[row].split()\n",
    "        # 最后一列存储了衰变通道个数\n",
    "        decay_channels = int(particle[-1])\n",
    "        row += decay_channels\n",
    "        \n",
    "        #print(particle[1], particle[10])\n",
    "        pdg_.append(int(particle[0]))\n",
    "        name_.append(particle[1])\n",
    "        mass_.append(float(particle[2]))\n",
    "        decay_width_.append(float(particle[3]))\n",
    "        spin_degeneracy_.append(int(particle[4]))\n",
    "        isbaryon_.append(int(particle[5]))\n",
    "        strange_num_.append(int(particle[6]))\n",
    "        charge_num_.append(int(particle[10]))\n",
    "        \n",
    "        row += 1\n",
    "        \n",
    "df = pd.DataFrame({\"pdg\":pdg_, \n",
    "                   \"name\":name_, \n",
    "                   \"mass\":mass_,\n",
    "                   \"decay_width\":decay_width_,\n",
    "                   \"2*spin+1\":spin_degeneracy_,\n",
    "                   \"isbaryon\":isbaryon_,\n",
    "                   \"strange_num\":strange_num_,\n",
    "                   \"charge_num\":charge_num_})\n",
    "\n",
    "# 给 pandas 的 DataFrame 数据多添加一列，eta\n",
    "\n",
    "# for fermions (baryons)\n",
    "df.loc[df[\"isbaryon\"]==1, \"eta\"] = +1.0\n",
    "\n",
    "# for bosons (mesons)\n",
    "df.loc[df[\"isbaryon\"]==0, \"eta\"] = -1.0\n",
    "\n",
    "# pdg05.dat 中无反重子，手动添加\n",
    "anti_baryon = df[df['isbaryon']==1].copy()\n",
    "\n",
    "anti_baryon.loc[:, \"pdg\"] = - anti_baryon[\"pdg\"]\n",
    "anti_baryon.loc[:, \"name\"] = \"anti\" + anti_baryon[\"name\"]\n",
    "anti_baryon.loc[:, \"charge_num\"] = -anti_baryon[\"charge_num\"]\n",
    "\n",
    "df = df.append(anti_baryon, ignore_index=True)"
   ]
  },
  {
   "cell_type": "code",
   "execution_count": 10,
   "metadata": {},
   "outputs": [
    {
     "name": "stderr",
     "output_type": "stream",
     "text": [
      "100%|██████████████████████████████████████████████████████████████████████████████████| 20/20 [00:20<00:00,  1.29s/it]\n"
     ]
    }
   ],
   "source": [
    "def hrg_eos():\n",
    "    T = np.linspace(0.1, 0.2, 20)\n",
    "    mu = 0  \n",
    "    pressure = []\n",
    "    edensity = []\n",
    "    ndensity = []\n",
    "    cs2 = []\n",
    "    \n",
    "    for Ti in tqdm(T):\n",
    "        pr = 0\n",
    "        ed = 0\n",
    "        nd = 0\n",
    "        for i in range(len(df)):\n",
    "            hadron = df.iloc[i, :]\n",
    "            pr_, ed_, nd_ = eos(Ti, mu, hadron)\n",
    "            pr += pr_\n",
    "            ed += ed_\n",
    "            nd += nd_\n",
    "            \n",
    "        pressure.append(pr)\n",
    "        edensity.append(ed)\n",
    "        ndensity.append(nd)\n",
    "    \n",
    "    cs2 = np.gradient(pressure, edensity)\n",
    "    \n",
    "    return T, np.array(pressure), np.array(edensity), np.array(ndensity), cs2\n",
    "\n",
    "T, Pr, Ed, Nh, Cs2 = hrg_eos()"
   ]
  },
  {
   "cell_type": "markdown",
   "metadata": {},
   "source": [
    "论文里的数据点我没有去采集，使用的李文汐同学的数据，特此鸣谢。"
   ]
  },
  {
   "cell_type": "code",
   "execution_count": 11,
   "metadata": {},
   "outputs": [
    {
     "data": {
      "image/png": "[encoded data removed]",
      "text/plain": [
       "<Figure size 432x288 with 1 Axes>"
      ]
     },
     "metadata": {
      "needs_background": "light"
     },
     "output_type": "display_data"
    }
   ],
   "source": [
    "#initialize figure\n",
    "fig, ax = plt.subplots()\n",
    "# fig.set_size_inches(8, 8)"
   ]
  },
  {
   "cell_type": "code",
   "execution_count": 12,
   "metadata": {},
   "outputs": [],
   "source": [
    "def AddLabelAndLegend(ax, xlabel, ylabel):\n",
    "    ax.set_xlabel(xlabel)\n",
    "    ax.set_ylabel(ylabel)\n",
    "    ax.legend()\n",
    "    return"
   ]
  },
  {
   "cell_type": "code",
   "execution_count": 13,
   "metadata": {},
   "outputs": [
    {
     "data": {
      "image/png": "[encoded data removed]",
      "text/plain": [
       "<Figure size 432x288 with 1 Axes>"
      ]
     },
     "execution_count": 13,
     "metadata": {},
     "output_type": "execute_result"
    }
   ],
   "source": [
    "#Cs2\n",
    "ax.cla()\n",
    "data = pd.read_csv('./data/C^2_s_T.csv')\n",
    "T_lqcd = data['T'] / 1000\n",
    "Cs2_lqcd = data['C^2_s']\n",
    "ax.scatter(T_lqcd, Cs2_lqcd, color='cyan', label='LQCD')\n",
    "ax.plot(T, Cs2, color='red', label='hrg')\n",
    "AddLabelAndLegend(ax, 'T', r'$C^2_s$')\n",
    "fig"
   ]
  },
  {
   "cell_type": "code",
   "execution_count": 14,
   "metadata": {},
   "outputs": [
    {
     "data": {
      "image/png": "[encoded data removed]",
      "text/plain": [
       "<Figure size 432x288 with 1 Axes>"
      ]
     },
     "execution_count": 14,
     "metadata": {},
     "output_type": "execute_result"
    }
   ],
   "source": [
    "#e over T\n",
    "ax.cla()\n",
    "data = pd.read_csv('./data/energy_T.csv')\n",
    "T_lqcd = data['T'] / 1000\n",
    "energy_lqcd = data['energy']\n",
    "ax.scatter(T_lqcd, energy_lqcd, color='cyan', label='LQCD')\n",
    "ax.plot(T, Ed/T**4, color='red', label='hrg')\n",
    "AddLabelAndLegend(ax, 'T', r'$\\epsilon/T^4$')\n",
    "fig"
   ]
  },
  {
   "cell_type": "code",
   "execution_count": 15,
   "metadata": {},
   "outputs": [
    {
     "data": {
      "image/png": "[encoded data removed]",
      "text/plain": [
       "<Figure size 432x288 with 1 Axes>"
      ]
     },
     "execution_count": 15,
     "metadata": {},
     "output_type": "execute_result"
    }
   ],
   "source": [
    "#P over T\n",
    "ax.cla()\n",
    "data = pd.read_csv('./data/pressure_T.csv')\n",
    "T_lqcd = data['T'] / 1000\n",
    "pressure_lqcd = data['pressure']\n",
    "ax.scatter(T_lqcd, pressure_lqcd, color='cyan', label='LQCD')\n",
    "ax.plot(T, 3*Pr/T**4, color='red', label='hrg')\n",
    "AddLabelAndLegend(ax, 'T', r'$3P/T^4$')\n",
    "fig"
   ]
  },
  {
   "cell_type": "code",
   "execution_count": 16,
   "metadata": {},
   "outputs": [
    {
     "data": {
      "image/png": "[encoded data removed]",
      "text/plain": [
       "<Figure size 432x288 with 1 Axes>"
      ]
     },
     "execution_count": 16,
     "metadata": {},
     "output_type": "execute_result"
    }
   ],
   "source": [
    "#hadron density\n",
    "ax.cla()\n",
    "data = pd.read_csv('./data/hadron_density_T.csv')\n",
    "T_lqcd = data['T'] / 1000\n",
    "rho_lqcd = data['hadron_density']\n",
    "ax.scatter(T_lqcd, rho_lqcd, color='cyan', label='LQCD')\n",
    "ax.plot(T, Nh/0.19732**3, color='red', label='hrg')\n",
    "AddLabelAndLegend(ax, 'T', 'Hadron Density')\n",
    "fig"
   ]
  },
  {
   "cell_type": "code",
   "execution_count": null,
   "metadata": {},
   "outputs": [],
   "source": []
  }
 ],
 "metadata": {
  "kernelspec": {
   "display_name": "Python 3",
   "language": "python",
   "name": "python3"
  },
  "language_info": {
   "codemirror_mode": {
    "name": "ipython",
    "version": 3
   },
   "file_extension": ".py",
   "mimetype": "text/x-python",
   "name": "python",
   "nbconvert_exporter": "python",
   "pygments_lexer": "ipython3",
   "version": "3.7.3"
  }
 },
 "nbformat": 4,
 "nbformat_minor": 2
}
